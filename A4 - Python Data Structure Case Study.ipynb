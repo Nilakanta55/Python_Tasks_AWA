{
 "cells": [
  {
   "cell_type": "markdown",
   "id": "82921519-f3f3-4ff2-8093-5f848b6c040b",
   "metadata": {},
   "source": [
    "Python Data Structure Case Study\n",
    "\n",
    "Scenario:\n",
    "\n",
    "You are working on a project where you need to analyze the social media activity of users. Each\n",
    "user’s activity is represented as a list of posts, where each post contains a timestamp and a message.\n",
    "You want to create a program that can quickly retrieve the most recent post from each user and also\n",
    "identify the most active user based on the number of posts they make.\n",
    "    \n",
    "Data Structure Requirements:\n",
    "1. You need to store each user’s posts efficiently.\n",
    "2. You need to quickly access the most recent post for each user.\n",
    "3. You need to determine the user with the highest number of posts.\n",
    "                                                  \n",
    "Question:\n",
    "                                                  \n",
    "How would you design and implement the data structure to meet these requirements in Python?\n",
    "Describe your approach and provide sample code to demonstrate how you would handle the\n",
    "following:\n",
    "                                                  \n",
    "1. Storing and updating posts for multiple users.\n",
    "2. Retrieving the most recent post for a specific use.\n",
    "3. Identifying the most active user based on the number of posts."
   ]
  },
  {
   "cell_type": "raw",
   "id": "041c12fb-8d25-45cf-8fe0-00e6fa094973",
   "metadata": {},
   "source": []
  },
  {
   "cell_type": "markdown",
   "id": "b3fcd7c2-b4a3-441e-81ed-7ede90bc2f16",
   "metadata": {},
   "source": [
    "We can make use of Python's built-in data structures like dictionaries and lists. Here's how we can approach each of the requirements:"
   ]
  },
  {
   "cell_type": "markdown",
   "id": "95a41bff-64a1-4df7-986a-cd5f4d71e73f",
   "metadata": {},
   "source": [
    "1. Storing and updating posts for multiple users.\n",
    "\n",
    "   We will use a dictionary where the keys represent the user IDs (or usernames), and the values will be lists of tuples. Each tuple in the list represents a post, containing a timestap and the message of the post. "
   ]
  },
  {
   "cell_type": "markdown",
   "id": "7fe7db6d-b523-4594-9d70-b73f211c69b2",
   "metadata": {},
   "source": [
    "2. Retrieving the most recent post for a specific user\n",
    "\n",
    "    For each user, the most recent post can be retrieved by simply looking at the last element of the list of posts for that user. The list will store the posts in chronological order, so the last element will be the latest post. "
   ]
  },
  {
   "cell_type": "markdown",
   "id": "3fa2a696-3b2d-4107-b86c-d2640c801636",
   "metadata": {},
   "source": [
    "3. Identifying the most active user based on the number of posts.\n",
    "\n",
    "    We can maintain a count of posts for each user and find the user with the highest count using the max() fuction. The length of the list of posts for each user will give us the count."
   ]
  },
  {
   "cell_type": "code",
   "execution_count": 2,
   "id": "3104ad9a-2449-499a-9fb8-ad98b530ce62",
   "metadata": {},
   "outputs": [
    {
     "name": "stdout",
     "output_type": "stream",
     "text": [
      "Most recent post by Virat: ('2024-09-15 12:00', 'Feeling good after practice')\n",
      "Most active user: Virat\n"
     ]
    }
   ],
   "source": [
    "# Initialize a dictionary to store posts for each user.\n",
    "user_posts = {}\n",
    "\n",
    "# Function to add a post for a user\n",
    "def add_post(user, timestamp, message):\n",
    "    if user not in user_posts:  # if user does not exist in the dictionary, create an entry for them\n",
    "        user_posts[user] = []    # Initialize list of posts for new user\n",
    "    user_posts[user].append((timestamp, message))  # append the new post as a tuple (timestamp, message)\n",
    "\n",
    "# Function to get the most recent post for a specific user \n",
    "def get_most_recent_post(user):\n",
    "    if user in user_posts and user_posts[user]:  # check if the user exists and has posts\n",
    "        return user_posts[user][-1]   # Return the most recent post (last post in the list)\n",
    "    else:\n",
    "        return None  # Return None if user has no posts\n",
    "\n",
    "# Function to get the most active user based on the number of post counts.\n",
    "def get_most_active_user():\n",
    "    most_active_user = None   # Initialize variables to track the most active user and their post count.\n",
    "    max_posts = 0 \n",
    "\n",
    "    for user, posts in user_posts.items():  # Iterate through each user and their posts\n",
    "        if len(posts) > max_posts:  # Update the most active user if the current user has more posts\n",
    "            most_active_user = user\n",
    "            max_posts = len(posts)\n",
    "    return most_active_user\n",
    "\n",
    "# Adding posts for multiple users\n",
    "add_post(\"Virat\", \"2024-09-15 10:00\", \"Back to Sport\")\n",
    "add_post(\"Kushal\", \"2024-09-15 10:00\", \"Going for a run\")\n",
    "add_post(\"Virat\", \"2024-09-15 11:00\", \"Going for practice session\")\n",
    "add_post(\"Virat\", \"2024-09-15 12:00\", \"Feeling good after practice\")\n",
    "add_post(\"Kushal\", \"2024-09-15 09:00\", \"Preparing for the game\")\n",
    "\n",
    "# Retrieving the most recent post for Virat\n",
    "print(f\"Most recent post by Virat: {get_most_recent_post('Virat')}\")\n",
    "\n",
    "# Identifying the most active user\n",
    "print(f\"Most active user: {get_most_active_user()}\")\n"
   ]
  },
  {
   "cell_type": "raw",
   "id": "f7185d5c-b6ab-44dc-904c-579478f8984e",
   "metadata": {},
   "source": []
  },
  {
   "cell_type": "markdown",
   "id": "ed830265-c689-4d30-bbc6-2a6bc393565f",
   "metadata": {},
   "source": [
    "Code Summary:\n",
    "\n",
    "add_post: Adds a new post to the user's list in the dictionary.\n",
    "\n",
    "get_most_recent_post: Retrieves the most recent post by sorting the list based on the timestamp.\n",
    "\n",
    "get_most_active_user: Finds the user with the maximum number of posts."
   ]
  }
 ],
 "metadata": {
  "kernelspec": {
   "display_name": "Python 3 (ipykernel)",
   "language": "python",
   "name": "python3"
  },
  "language_info": {
   "codemirror_mode": {
    "name": "ipython",
    "version": 3
   },
   "file_extension": ".py",
   "mimetype": "text/x-python",
   "name": "python",
   "nbconvert_exporter": "python",
   "pygments_lexer": "ipython3",
   "version": "3.11.7"
  }
 },
 "nbformat": 4,
 "nbformat_minor": 5
}
