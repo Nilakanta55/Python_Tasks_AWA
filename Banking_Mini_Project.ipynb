{
 "cells": [
  {
   "cell_type": "markdown",
   "id": "fb4b3116-7dc7-41b5-8c7b-36d945e3b76b",
   "metadata": {},
   "source": [
    "Mini Project: Simple Banking System with Exception Handling"
   ]
  },
  {
   "cell_type": "markdown",
   "id": "4a128b92-95dc-4fdf-bb41-eda4b8052d28",
   "metadata": {},
   "source": [
    "* Problem Statement:\n",
    "\n",
    "  You must create a simple program simulating a bank account withdrawal process. The program should:\n",
    "\n",
    "1) Ask the user for their account balance and the amount they want to withdraw.\n",
    "\n",
    "2) Check for invalid inputs (e.g., non-numeric values).\n",
    "\n",
    "3) Handle cases such as trying to withdraw more money than available or trying to withdraw a negative amount.\n",
    "\n",
    "* Tasks to Handle:\n",
    "\n",
    "1) Handle cases where the input is not a number.\n",
    "\n",
    "2) Handle cases where the withdrawal amount is greater than the account balance.\n",
    "\n",
    "3) Handle cases where the withdrawal amount is negative.\n",
    "\n",
    "4) Ensure the program handles any exception gracefully."
   ]
  },
  {
   "cell_type": "markdown",
   "id": "497eb54b-7aab-4746-b820-83e07d2b834a",
   "metadata": {},
   "source": [
    "To complete this mini-project, you will implement a simple banking system using Python. The program will simulate the process of withdrawing money from a bank account, with proper exception handling. Below is a step-by-step guide on how to approach it:"
   ]
  },
  {
   "cell_type": "markdown",
   "id": "2efdea1b-ab3c-4fa5-b1d5-847af91dead2",
   "metadata": {},
   "source": [
    "Breakdown of the Code:\n",
    "\n",
    "1. Input Handling:\n",
    "* The balance and withdrawal variables capture user input, converted to float to allow decimal values for currency.\n",
    "\n",
    "2. Checking for Negative or Excessive Withdrawal:\n",
    "* A condition checks if the withdrawal amount is less than zero. If so, it raises a ValueError.\n",
    "* A second condition checks if the withdrawal exceeds the balance, raising another ValueError if needed.\n",
    "\n",
    "3. Exception Handling:\n",
    "* The try-except block catches any ValueError or unexpected errors, providing informative feedback without crashing the program.\n",
    "* General exceptions are caught with the except Exception as e block to ensure robustness."
   ]
  },
  {
   "cell_type": "code",
   "execution_count": 17,
   "id": "b685e2c1-0f6e-498b-8032-2d83a5a28810",
   "metadata": {},
   "outputs": [
    {
     "name": "stdin",
     "output_type": "stream",
     "text": [
      "Enter your account balance:  376\n",
      "Enter the amount you wany to withdraw:  387\n"
     ]
    },
    {
     "name": "stdout",
     "output_type": "stream",
     "text": [
      "Error: Insufficient funds in your account. You cannot more than your accout balance.\n"
     ]
    }
   ],
   "source": [
    "def simple_banking_system():\n",
    "    try:\n",
    "        # Input for account balance\n",
    "        account_balance = float(input(\"Enter your account balance: \"))\n",
    "        \n",
    "        # Input for withdrawal amount\n",
    "        withdrawal_amount = float(input(\"Enter the amount you wany to withdraw: \"))\n",
    "        \n",
    "        # Check for negative withdrawal amount\n",
    "        if withdrawal_amount < 0:\n",
    "            raise ValueError(\"The withdrawal amount cannot be negative.\")\n",
    "        \n",
    "        # Check if withdrawal amount exceeds balance\n",
    "        if withdrawal_amount > account_balance:\n",
    "            raise ValueError(\"Insufficient funds in your account. You cannot more than your accout balance.\")\n",
    "        \n",
    "        # Perform the withdrawal\n",
    "        account_balance -= withdrawal_amount    # account_balance - withdrawal_amount\n",
    "        print(f\"Transaction successful! Your new balance is: {account_balance}\")\n",
    "    \n",
    "    except ValueError as ve:\n",
    "        # Handle invalid input or errors in withdrawal\n",
    "        print(f\"Error: {ve}\")\n",
    "    \n",
    "    except Exception as e:\n",
    "        # General exception handling\n",
    "        print(f\"An unexpected error occurred: {e}\")\n",
    "\n",
    "# Call the banking system function\n",
    "simple_banking_system()\n"
   ]
  },
  {
   "cell_type": "markdown",
   "id": "9778540e-7634-4132-9617-17bfb9c0a8ed",
   "metadata": {},
   "source": [
    "Key Concepts Implemented:\n",
    "\n",
    "* Input Validation: Ensures numeric input for both balance and withdrawal.\n",
    "* Error Handling: Uses try-except blocks to manage user errors and program exceptions.\n",
    "* User Feedback: Provides clear messages for success and error conditions.\n",
    "\n",
    "This implementation meets the requirements of the project while ensuring robust error handling."
   ]
  },
  {
   "cell_type": "markdown",
   "id": "8af29d1d-a595-4a98-8e6c-14a1280546fb",
   "metadata": {},
   "source": [
    "Output Examples:\n",
    "\n",
    "Case 1: Successful Withdrawal\n",
    "text\n",
    "Copy code\n",
    "Enter your account balance: 500\n",
    "Enter the amount to withdraw: 200\n",
    "Transaction successful! Your new balance is: 300.0\n",
    "\n",
    "Case 2: Insufficient Funds\n",
    "text\n",
    "Copy code\n",
    "Enter your account balance: 300\n",
    "Enter the amount to withdraw: 500\n",
    "Error: Insufficient funds in your account.\n",
    "\n",
    "Case 3: Negative Withdrawal Amount\n",
    "text\n",
    "Copy code\n",
    "Enter your account balance: 400\n",
    "Enter the amount to withdraw: -100\n",
    "Error: The withdrawal amount cannot be negative.\n",
    "\n",
    "Case 4: Non-Numeric Input\n",
    "text\n",
    "Copy code\n",
    "Enter your account balance: abc\n",
    "Error: could not convert string to float: 'abc'"
   ]
  }
 ],
 "metadata": {
  "kernelspec": {
   "display_name": "Python 3 (ipykernel)",
   "language": "python",
   "name": "python3"
  },
  "language_info": {
   "codemirror_mode": {
    "name": "ipython",
    "version": 3
   },
   "file_extension": ".py",
   "mimetype": "text/x-python",
   "name": "python",
   "nbconvert_exporter": "python",
   "pygments_lexer": "ipython3",
   "version": "3.11.7"
  }
 },
 "nbformat": 4,
 "nbformat_minor": 5
}
