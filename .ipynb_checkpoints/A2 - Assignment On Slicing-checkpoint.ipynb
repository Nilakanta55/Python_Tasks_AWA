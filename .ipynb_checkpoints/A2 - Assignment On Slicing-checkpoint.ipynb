{
 "cells": [
  {
   "cell_type": "raw",
   "id": "beb56178-6e51-4594-ab71-a7e00941b870",
   "metadata": {},
   "source": [
    "Part 1: Basic Slicing\n",
    "\n",
    "1. Introduction to Slicing:\n",
    "\n",
    "a. Given a string s = \"Hello, World!\", slice and print the following:\n",
    "\n",
    "i.   The entire string.\n",
    "ii.  The first 5 characters.\n",
    "iii. The last 5 characters.\n",
    "iv.  The string excludes the first and last characters.\n",
    "v.   Every second character in the string.\n"
   ]
  },
  {
   "cell_type": "code",
   "execution_count": 1,
   "id": "0606a0b4-4f62-4497-a290-b22748a9942d",
   "metadata": {},
   "outputs": [
    {
     "name": "stdout",
     "output_type": "stream",
     "text": [
      "Entire string: Hello, World!\n",
      "First 5 characters: Hello\n",
      "Last 5 characters: orld!\n",
      "Excluding first and last characters: ello, World\n",
      "Every second character: Hlo ol!\n"
     ]
    }
   ],
   "source": [
    "s = \"Hello, World!\"\n",
    "\n",
    "# i. The entire string\n",
    "entire_string = s[:]\n",
    "print(\"Entire string:\", entire_string)\n",
    "\n",
    "# ii. The first 5 characters\n",
    "first_5_characters = s[:5]\n",
    "print(\"First 5 characters:\", first_5_characters)\n",
    "\n",
    "# iii. The last 5 characters\n",
    "last_5_characters = s[-5:]\n",
    "print(\"Last 5 characters:\", last_5_characters)\n",
    "\n",
    "# iv. The string excluding the first and last characters\n",
    "exclude_first_last = s[1:-1]\n",
    "print(\"Excluding first and last characters:\", exclude_first_last)\n",
    "\n",
    "# v. Every second character in the string\n",
    "every_second_character = s[::2]\n",
    "print(\"Every second character:\", every_second_character)\n"
   ]
  },
  {
   "cell_type": "code",
   "execution_count": null,
   "id": "c4581078-e7ec-4995-8538-10ba0baee3ef",
   "metadata": {},
   "outputs": [],
   "source": []
  },
  {
   "cell_type": "markdown",
   "id": "dece0d9b-5a26-490b-9720-b49914fe81fc",
   "metadata": {},
   "source": [
    "\n",
    "2. Slicing with Negative Indices:\n",
    "\n",
    "a. Use negative indices to slice and print the following from the string s:\n",
    "1. The last 3 characters.\n",
    "2. All characters except the last 2.\n",
    "3. The string reversed.\n"
   ]
  },
  {
   "cell_type": "code",
   "execution_count": 2,
   "id": "f7765a2c-17f8-44dd-baeb-e99ffcda0068",
   "metadata": {},
   "outputs": [
    {
     "name": "stdout",
     "output_type": "stream",
     "text": [
      "Last 3 characters: ld!\n",
      "All characters except the last 2: Hello, Worl\n",
      "Reversed string: !dlroW ,olleH\n"
     ]
    }
   ],
   "source": [
    "s = \"Hello, World!\"\n",
    "\n",
    "# a.1. The last 3 characters\n",
    "last_3_characters = s[-3:]\n",
    "print(\"Last 3 characters:\", last_3_characters)\n",
    "\n",
    "# a.2. All characters except the last 2\n",
    "except_last_2 = s[:-2]\n",
    "print(\"All characters except the last 2:\", except_last_2)\n",
    "\n",
    "# a.3. The string reversed\n",
    "reversed_string = s[::-1]\n",
    "print(\"Reversed string:\", reversed_string)"
   ]
  },
  {
   "cell_type": "raw",
   "id": "18ac176e-4b10-48e4-be8d-5f802a04eade",
   "metadata": {},
   "source": []
  },
  {
   "cell_type": "raw",
   "id": "fec2f7de-6b2d-4d0c-9ed6-c10731690000",
   "metadata": {},
   "source": [
    "Part 2: Advanced Slicing\n",
    "\n",
    "1. Slicing Substrings:\n",
    "   \n",
    "a. Given a string sentence = \"The quick brown fox jumps over the lazy\n",
    "dog\", slice and print the following:\n",
    "\n",
    "i. The word \"quick\".\n",
    "ii. The word \"lazy\".\n",
    "iii. The words \"brown fox jumps\"\n"
   ]
  },
  {
   "cell_type": "code",
   "execution_count": 3,
   "id": "bb9c8824-a3ed-43cc-89ed-cb0aa8404e0e",
   "metadata": {},
   "outputs": [
    {
     "name": "stdout",
     "output_type": "stream",
     "text": [
      "Word 'quick': quick\n",
      "Word 'lazy': lazy\n",
      "Words 'brown fox jumps': brown fox jumps\n"
     ]
    }
   ],
   "source": [
    "sentence = \"The quick brown fox jumps over the lazy dog\"\n",
    "\n",
    "# i. The word \"quick\"\n",
    "word_quick = sentence[4:9]\n",
    "print(\"Word 'quick':\", word_quick)\n",
    "\n",
    "# ii. The word \"lazy\"\n",
    "word_lazy = sentence[35:39]\n",
    "print(\"Word 'lazy':\", word_lazy)\n",
    "\n",
    "# iii. The words \"brown fox jumps\"\n",
    "words_brown_fox_jumps = sentence[10:25]\n",
    "print(\"Words 'brown fox jumps':\", words_brown_fox_jumps)\n"
   ]
  },
  {
   "cell_type": "raw",
   "id": "5c1b333b-ffb9-4dd4-a4f9-d7887fa79c9e",
   "metadata": {},
   "source": []
  },
  {
   "cell_type": "raw",
   "id": "e190eb1a-003f-45aa-9a94-76c0d1722336",
   "metadata": {},
   "source": [
    "2. Step Slicing:\n",
    "   \n",
    "a. Use step slicing to print the following from the string s:\n",
    "\n",
    "i. Every third character.\n",
    "ii. Every third character starting from the second character.\n",
    "iii. The string reversed, stepping by 2."
   ]
  },
  {
   "cell_type": "code",
   "execution_count": 4,
   "id": "a25cdb22-6f0e-4356-bcd2-39f79811750d",
   "metadata": {},
   "outputs": [
    {
     "name": "stdout",
     "output_type": "stream",
     "text": [
      "Every third character: Hl r!\n",
      "Every third character starting from the second: eoWl\n",
      "Reversed, stepping by 2: !lo olH\n"
     ]
    }
   ],
   "source": [
    "\n",
    "# i. Every third character\n",
    "every_third_character = s[::3]\n",
    "print(\"Every third character:\", every_third_character)\n",
    "\n",
    "# ii. Every third character starting from the second character\n",
    "every_third_from_second = s[1::3]\n",
    "print(\"Every third character starting from the second:\", every_third_from_second)\n",
    "\n",
    "# iii. The string reversed, stepping by 2\n",
    "reversed_step_2 = s[::-2]\n",
    "print(\"Reversed, stepping by 2:\", reversed_step_2)\n"
   ]
  },
  {
   "cell_type": "raw",
   "id": "3164c7b1-c318-46ea-aa6b-7a2047d0e400",
   "metadata": {},
   "source": []
  },
  {
   "cell_type": "raw",
   "id": "31ff665b-eeb7-4544-b2a4-cfb095cd3f8c",
   "metadata": {},
   "source": [
    "Part 3: Practical Application\n",
    "\r\n",
    "1. Extracting Informatio\n",
    "\n",
    ":\r\n",
    "a. Given a string data = \"2024-09-01,Sunny,25°C\", extract and pnt t\r\n",
    "the follwi\n",
    "\n",
    "ng:\r\n",
    "i. The date.\r\n",
    "ii. The weather condition.\r\n",
    "iii. The temperature"
   ]
  },
  {
   "cell_type": "code",
   "execution_count": 5,
   "id": "08ca7689-6caf-4b04-ad5b-e5cc5183fd7e",
   "metadata": {},
   "outputs": [
    {
     "name": "stdout",
     "output_type": "stream",
     "text": [
      "Date: 2024-09-01\n",
      "Weather Condition: Sunny\n",
      "Temperature: 25°C\n"
     ]
    }
   ],
   "source": [
    "data = \"2024-09-01,Sunny,25°C\"\n",
    "\n",
    "# Split the string into parts\n",
    "parts = data.split(',')\n",
    "\n",
    "# i. Extract the date\n",
    "date = parts[0]\n",
    "print(\"Date:\", date)\n",
    "\n",
    "# ii. Extract the weather condition\n",
    "weather_condition = parts[1]\n",
    "print(\"Weather Condition:\", weather_condition)\n",
    "\n",
    "# iii. Extract the temperature\n",
    "temperature = parts[2]\n",
    "print(\"Temperature:\", temperature)\n"
   ]
  },
  {
   "cell_type": "raw",
   "id": "10580393-59ab-40bd-ba48-6dcfb4b1b60c",
   "metadata": {},
   "source": []
  },
  {
   "cell_type": "raw",
   "id": "4a70f714-9e41-4f61-8c49-952b74029243",
   "metadata": {},
   "source": [
    "2. Reformatting Strings:\n",
    "\n",
    "i. Given a string phone_number = \"(123) 456-7890\", reformat\n",
    "it to ‘123-456-7890’"
   ]
  },
  {
   "cell_type": "code",
   "execution_count": 6,
   "id": "12cce519-6ce5-4449-a35f-82ebdbd5491a",
   "metadata": {},
   "outputs": [
    {
     "name": "stdout",
     "output_type": "stream",
     "text": [
      "123456-7890\n"
     ]
    }
   ],
   "source": [
    "phone_number = \"(123) 456-7890\"\n",
    "\n",
    "# Reformat by removing parentheses and spaces\n",
    "reformatted_phone_number = phone_number.replace(\"(\", \"\").replace(\")\", \"\").replace(\" \", \"\")\n",
    "print(reformatted_phone_number)"
   ]
  },
  {
   "cell_type": "raw",
   "id": "ababf280-4a0c-4372-985a-18ac9b579285",
   "metadata": {},
   "source": []
  },
  {
   "cell_type": "raw",
   "id": "eceb3234-eb7b-4af7-a633-4537f795c0e5",
   "metadata": {},
   "source": [
    "Part 4: Questions based on string methods\n",
    "\n",
    "1. Upper and Lower Case Conversion:\n",
    "\n",
    "i. Given a string s = \"Hello, World!\", perform the following:\n",
    "\n",
    "b. Convert the string to all uppercase letters.\n",
    "c. Convert the string to all lowercase letters.\n",
    "d. Convert the string to title case.\n",
    "e. Capitalize the first letter of the string. "
   ]
  },
  {
   "cell_type": "code",
   "execution_count": 7,
   "id": "2c4915e7-df78-4e26-9a84-e884a92cb1f9",
   "metadata": {},
   "outputs": [
    {
     "name": "stdout",
     "output_type": "stream",
     "text": [
      "Uppercase: HELLO, WORLD!\n",
      "Lowercase: hello, world!\n",
      "Title Case: Hello, World!\n",
      "Capitalized: Hello, world!\n"
     ]
    }
   ],
   "source": [
    "s = \"Hello, World!\"\n",
    "\n",
    "# a. Convert the string to all uppercase letters\n",
    "uppercase_string = s.upper()\n",
    "print(\"Uppercase:\", uppercase_string)\n",
    "\n",
    "# b. Convert the string to all lowercase letters\n",
    "lowercase_string = s.lower()\n",
    "print(\"Lowercase:\", lowercase_string)\n",
    "\n",
    "# c. Convert the string to title case\n",
    "title_case_string = s.title()\n",
    "print(\"Title Case:\", title_case_string)\n",
    "\n",
    "# d. Capitalize the first letter of the string\n",
    "capitalized_string = s.capitalize()\n",
    "print(\"Capitalized:\", capitalized_string)\n"
   ]
  },
  {
   "cell_type": "raw",
   "id": "fe20ac20-ab2f-42d6-b18e-0ebce2f0011d",
   "metadata": {},
   "source": []
  },
  {
   "cell_type": "raw",
   "id": "2dbe6f54-8a37-410a-9fc5-e9df976b974b",
   "metadata": {},
   "source": [
    "2. Finding Substrings:\n",
    "\n",
    "Given a string s = \"The quick brown fox jumps over the lazy dog\", perform the following:\n",
    "\n",
    "a. Find the position of the substring \"fox\".\n",
    "b. Check if the substring \"cat\" is in the string."
   ]
  },
  {
   "cell_type": "code",
   "execution_count": 8,
   "id": "4a945e41-3b1a-414e-bc38-9c27becbe9ef",
   "metadata": {},
   "outputs": [
    {
     "name": "stdout",
     "output_type": "stream",
     "text": [
      "Position of 'fox': 16\n",
      "Is 'cat' in the string?: False\n"
     ]
    }
   ],
   "source": [
    "s = \"The quick brown fox jumps over the lazy dog\"\n",
    "\n",
    "# a. Find the position of the substring \"fox\"\n",
    "position_fox = s.find(\"fox\")\n",
    "print(\"Position of 'fox':\", position_fox)\n",
    "\n",
    "# b. Check if the substring \"cat\" is in the string\n",
    "is_cat_in_string = \"cat\" in s\n",
    "print(\"Is 'cat' in the string?:\", is_cat_in_string)\n"
   ]
  },
  {
   "cell_type": "raw",
   "id": "ca39a4fb-1b17-4285-8450-986e1591ee63",
   "metadata": {},
   "source": []
  },
  {
   "cell_type": "raw",
   "id": "d34ac1e9-0f25-47f1-a8c7-5ee30767d499",
   "metadata": {},
   "source": [
    "Replacing Substrings: Given a string \n",
    "\n",
    "s = \"The quick brown fox jumps over the lazy dog\", perform the following:\n",
    "\n",
    "a. Replace \"fox\" with \"cat\".\n",
    "b. Replace all spaces with underscores.\n",
    "c. Split the string into a list of words.\n",
    "d. Split the string by the letter 'o'.\n"
   ]
  },
  {
   "cell_type": "code",
   "execution_count": 9,
   "id": "fff97aab-5a0b-43a7-bfc3-6b42fbc851db",
   "metadata": {},
   "outputs": [
    {
     "name": "stdout",
     "output_type": "stream",
     "text": [
      "Replaced 'fox' with 'cat': The quick brown cat jumps over the lazy dog\n",
      "Replaced spaces with underscores: The_quick_brown_fox_jumps_over_the_lazy_dog\n",
      "List of words: ['The', 'quick', 'brown', 'fox', 'jumps', 'over', 'the', 'lazy', 'dog']\n",
      "Split by 'o': ['The quick br', 'wn f', 'x jumps ', 'ver the lazy d', 'g']\n"
     ]
    }
   ],
   "source": [
    "s = \"The quick brown fox jumps over the lazy dog\"\n",
    "\n",
    "# a. Replace \"fox\" with \"cat\"\n",
    "s_replaced_fox = s.replace(\"fox\", \"cat\")\n",
    "print(\"Replaced 'fox' with 'cat':\", s_replaced_fox)\n",
    "\n",
    "# b. Replace all spaces with underscores\n",
    "s_replace_spaces = s.replace(\" \", \"_\")\n",
    "print(\"Replaced spaces with underscores:\", s_replace_spaces)\n",
    "\n",
    "# c. Split the string into a list of words\n",
    "words_list = s.split()\n",
    "print(\"List of words:\", words_list)\n",
    "\n",
    "# d. Split the string by the letter 'o'\n",
    "split_by_o = s.split('o')\n",
    "print(\"Split by 'o':\", split_by_o)\n"
   ]
  },
  {
   "cell_type": "raw",
   "id": "855578b2-9d76-440c-a9de-e0153f902fda",
   "metadata": {},
   "source": []
  },
  {
   "cell_type": "raw",
   "id": "9a7a7cdb-e7ea-4f37-9009-c3f291d3547a",
   "metadata": {},
   "source": [
    "4.Joining Strings: Given a list of words\n",
    "\n",
    "words = [\"The\", \"quick\", \"brown\", \"fox\"],\n",
    "\n",
    "perform the following:\n",
    "a. Join the words with spaces.\n",
    "b. Join the words with hyphens"
   ]
  },
  {
   "cell_type": "code",
   "execution_count": 10,
   "id": "377e1ce2-ae94-43cf-b0f8-82bf9094fc06",
   "metadata": {},
   "outputs": [
    {
     "name": "stdout",
     "output_type": "stream",
     "text": [
      "Joined with spaces: The quick brown fox\n",
      "Joined with hyphens: The-quick-brown-fox\n"
     ]
    }
   ],
   "source": [
    "words = [\"The\", \"quick\", \"brown\", \"fox\"]\n",
    "\n",
    "# a. Join the words with spaces\n",
    "joined_with_spaces = ' '.join(words)\n",
    "print(\"Joined with spaces:\", joined_with_spaces)\n",
    "\n",
    "# b. Join the words with hyphens\n",
    "joined_with_hyphens = '-'.join(words)\n",
    "print(\"Joined with hyphens:\", joined_with_hyphens)"
   ]
  },
  {
   "cell_type": "code",
   "execution_count": null,
   "id": "abc3a564-3732-44c9-b63c-ed991876353c",
   "metadata": {},
   "outputs": [],
   "source": []
  },
  {
   "cell_type": "code",
   "execution_count": null,
   "id": "a951ae15-fbf2-4000-9951-af643ac0d084",
   "metadata": {},
   "outputs": [],
   "source": []
  }
 ],
 "metadata": {
  "kernelspec": {
   "display_name": "Python 3 (ipykernel)",
   "language": "python",
   "name": "python3"
  },
  "language_info": {
   "codemirror_mode": {
    "name": "ipython",
    "version": 3
   },
   "file_extension": ".py",
   "mimetype": "text/x-python",
   "name": "python",
   "nbconvert_exporter": "python",
   "pygments_lexer": "ipython3",
   "version": "3.11.7"
  }
 },
 "nbformat": 4,
 "nbformat_minor": 5
}
