{
 "cells": [
  {
   "cell_type": "raw",
   "id": "1559651e-085d-4f50-a0d0-6f1282cc1629",
   "metadata": {},
   "source": [
    "\n",
    "1)Create a list named my_list that contains the following elements: 10, 20, 30, 40, 50.\n",
    "2) Write a Python code to access the first and last elements of my_list.\n",
    "3) Change the second element of my_list to 25.\n",
    "4) Append the value 60 to my_list.\n",
    "5) Insert the value 15 at the second position in my_list.\n",
    "6) Remove the first occurrence of 30 from my_list using the remove() method.\n",
    "7) Use the pop() method to remove and return the last element from my_list.\n",
    "8) Sort my_list in ascending order.\n",
    "9) Reverse the order of elements in my_list.\n",
    "10) Count how many times the value 20 appears in my_list.\n",
    "11) Slice my_list to create a new list containing the first three elements.\n",
    "12) Find the index of the value 40 in my_list.\n",
    "13) Clear all elements from my_list using the clear() method.\n",
    "14) Create a nested list called nested_list with two sublists: [1, 2, 3] and [4, 5, 6].\n",
    "15) Access the element 5 from nested_list."
   ]
  },
  {
   "cell_type": "raw",
   "id": "0de5988c-319f-409f-8a98-f9a646a9fbbb",
   "metadata": {},
   "source": []
  },
  {
   "cell_type": "markdown",
   "id": "93413641-ca44-4f07-83b3-b80bfb50386a",
   "metadata": {},
   "source": [
    "1) Create a list named my_list that contains the following elements: 10, 20, 30, 40, 50."
   ]
  },
  {
   "cell_type": "code",
   "execution_count": 3,
   "id": "3fff4dfc-214e-4e21-bace-41e2abc4a71f",
   "metadata": {},
   "outputs": [],
   "source": [
    "my_list = [10, 20, 30, 40, 50]"
   ]
  },
  {
   "cell_type": "raw",
   "id": "47d3b3da-0b45-4762-b9b7-30a822babf37",
   "metadata": {},
   "source": []
  },
  {
   "cell_type": "markdown",
   "id": "70a1c3e9-55a7-4616-b19a-b51289b36a9b",
   "metadata": {},
   "source": [
    "2) Write a Python code to access the first and last elements of my_list."
   ]
  },
  {
   "cell_type": "code",
   "execution_count": 4,
   "id": "0ac413af-329e-40bd-89f5-3a7714e1fc2c",
   "metadata": {},
   "outputs": [
    {
     "name": "stdout",
     "output_type": "stream",
     "text": [
      "First element from my_list is : 10, Last element from my_list is: 50\n"
     ]
    }
   ],
   "source": [
    "first_element = my_list[0]\n",
    "last_element = my_list[-1]\n",
    "print(f\"First element from my_list is : {first_element}, Last element from my_list is: {last_element}\")\n"
   ]
  },
  {
   "cell_type": "raw",
   "id": "e8a7b747-986a-4112-8d2e-5d62b995e686",
   "metadata": {},
   "source": []
  },
  {
   "cell_type": "markdown",
   "id": "39a3c4ba-5c9b-4058-8882-07fd167eb833",
   "metadata": {},
   "source": [
    "3) Change the second element of my_list to 25."
   ]
  },
  {
   "cell_type": "code",
   "execution_count": 6,
   "id": "f73e4aab-8936-45c8-bf07-a36df8a56c28",
   "metadata": {},
   "outputs": [
    {
     "data": {
      "text/plain": [
       "[10, 25, 30, 40, 50]"
      ]
     },
     "execution_count": 6,
     "metadata": {},
     "output_type": "execute_result"
    }
   ],
   "source": [
    "my_list[1] = 25\n",
    "my_list"
   ]
  },
  {
   "cell_type": "raw",
   "id": "cf029197-1e3c-4250-8574-e7fdeee9bd9d",
   "metadata": {},
   "source": []
  },
  {
   "cell_type": "markdown",
   "id": "4b2568e8-9ed9-4c7f-b3dc-337e9201e3b6",
   "metadata": {},
   "source": [
    "4) Append the value 60 to my_list."
   ]
  },
  {
   "cell_type": "code",
   "execution_count": 8,
   "id": "b10338b7-e55a-4a4e-a4e9-70904d00e2aa",
   "metadata": {},
   "outputs": [
    {
     "data": {
      "text/plain": [
       "[10, 25, 30, 40, 50, 60, 60]"
      ]
     },
     "execution_count": 8,
     "metadata": {},
     "output_type": "execute_result"
    }
   ],
   "source": [
    "my_list.append(60)\n",
    "my_list"
   ]
  },
  {
   "cell_type": "raw",
   "id": "7098847d-34f8-4eac-996f-10979cbe310f",
   "metadata": {},
   "source": []
  },
  {
   "cell_type": "markdown",
   "id": "dc06ba94-b0b6-4420-9b82-bcc1ac23bd26",
   "metadata": {},
   "source": [
    "5) Insert the value 15 at the second position in my_list."
   ]
  },
  {
   "cell_type": "code",
   "execution_count": 9,
   "id": "27211da7-cfee-48e1-a257-f4f3096263e9",
   "metadata": {},
   "outputs": [
    {
     "data": {
      "text/plain": [
       "[10, 15, 25, 30, 40, 50, 60, 60]"
      ]
     },
     "execution_count": 9,
     "metadata": {},
     "output_type": "execute_result"
    }
   ],
   "source": [
    "my_list.insert(1, 15)\n",
    "my_list"
   ]
  },
  {
   "cell_type": "raw",
   "id": "24629011-5435-48e6-9282-dd664a4c0a81",
   "metadata": {},
   "source": []
  },
  {
   "cell_type": "markdown",
   "id": "fe72dc6a-f3c7-4441-ac1d-7325c31eeed1",
   "metadata": {},
   "source": [
    "6) Remove the first occurrence of 30 from my_list using the remove() method."
   ]
  },
  {
   "cell_type": "code",
   "execution_count": 11,
   "id": "c13d6358-5fd5-46a8-b730-5ff6d54207be",
   "metadata": {},
   "outputs": [
    {
     "data": {
      "text/plain": [
       "[10, 15, 25, 40, 50, 60, 60]"
      ]
     },
     "execution_count": 11,
     "metadata": {},
     "output_type": "execute_result"
    }
   ],
   "source": [
    "my_list.remove(30)\n",
    "my_list"
   ]
  },
  {
   "cell_type": "raw",
   "id": "23fe0676-836f-4ba0-97dc-cc7de290507b",
   "metadata": {},
   "source": []
  },
  {
   "cell_type": "markdown",
   "id": "5c03e062-7bc9-42b2-bc72-d58c08082023",
   "metadata": {},
   "source": [
    "7) Use the pop() method to remove and return the last element from my_list."
   ]
  },
  {
   "cell_type": "code",
   "execution_count": 12,
   "id": "06ec3286-d55d-4476-9e6a-5763a2a19bb7",
   "metadata": {},
   "outputs": [
    {
     "name": "stdout",
     "output_type": "stream",
     "text": [
      "Removed last element: 60\n"
     ]
    },
    {
     "data": {
      "text/plain": [
       "[10, 15, 25, 40, 50, 60]"
      ]
     },
     "execution_count": 12,
     "metadata": {},
     "output_type": "execute_result"
    }
   ],
   "source": [
    "last_element = my_list.pop()\n",
    "print(f\"Removed last element: {last_element}\") \n",
    "my_list"
   ]
  },
  {
   "cell_type": "raw",
   "id": "f2618ee0-3d30-4950-9558-d7a668659062",
   "metadata": {},
   "source": []
  },
  {
   "cell_type": "markdown",
   "id": "c5551496-40ca-41c9-a994-8b5609f39dc7",
   "metadata": {},
   "source": [
    "8) Sort my_list in ascending order."
   ]
  },
  {
   "cell_type": "code",
   "execution_count": 13,
   "id": "dddc064c-db87-42b0-a6f0-3a2debacde4f",
   "metadata": {},
   "outputs": [
    {
     "data": {
      "text/plain": [
       "[10, 15, 25, 40, 50, 60]"
      ]
     },
     "execution_count": 13,
     "metadata": {},
     "output_type": "execute_result"
    }
   ],
   "source": [
    "my_list.sort()\n",
    "my_list"
   ]
  },
  {
   "cell_type": "raw",
   "id": "a14c891a-bba4-406f-afcf-b4bca42bce40",
   "metadata": {},
   "source": []
  },
  {
   "cell_type": "markdown",
   "id": "0f8e57d9-2dba-4854-ae10-63d73d2b8840",
   "metadata": {},
   "source": [
    "9) Reverse the order of elements in my_list."
   ]
  },
  {
   "cell_type": "code",
   "execution_count": 14,
   "id": "086acb17-8745-4bd2-8985-7f985378ae1d",
   "metadata": {},
   "outputs": [
    {
     "data": {
      "text/plain": [
       "[60, 50, 40, 25, 15, 10]"
      ]
     },
     "execution_count": 14,
     "metadata": {},
     "output_type": "execute_result"
    }
   ],
   "source": [
    "my_list.reverse()\n",
    "my_list"
   ]
  },
  {
   "cell_type": "raw",
   "id": "300ece39-6c13-4b15-a083-c7a3e8c18b32",
   "metadata": {},
   "source": []
  },
  {
   "cell_type": "markdown",
   "id": "9439b2c1-0e2a-4a67-8a65-f5ab9ee12ebb",
   "metadata": {},
   "source": [
    "10. Count how many times the value 20 appears in my_list."
   ]
  },
  {
   "cell_type": "code",
   "execution_count": 18,
   "id": "cef79bb4-6ceb-4270-a761-3f112db7669b",
   "metadata": {},
   "outputs": [
    {
     "name": "stdout",
     "output_type": "stream",
     "text": [
      "Number of times 20 appears: 0\n"
     ]
    },
    {
     "data": {
      "text/plain": [
       "[60, 50, 40, 25, 15, 10]"
      ]
     },
     "execution_count": 18,
     "metadata": {},
     "output_type": "execute_result"
    }
   ],
   "source": [
    "count_20 = my_list.count(20)\n",
    "print(f\"Number of times 20 appears: {count_20}\")\n",
    "my_list"
   ]
  },
  {
   "cell_type": "raw",
   "id": "8dcc7aba-a2aa-494e-8192-ced81ad34b87",
   "metadata": {},
   "source": []
  },
  {
   "cell_type": "markdown",
   "id": "93ed7bd5-659c-409d-868d-1f89d8498f30",
   "metadata": {},
   "source": [
    "11) Slice my_list to create a new list containing the first three elements."
   ]
  },
  {
   "cell_type": "code",
   "execution_count": 19,
   "id": "96bec484-8959-46f2-a415-2863b0e69e01",
   "metadata": {},
   "outputs": [
    {
     "name": "stdout",
     "output_type": "stream",
     "text": [
      "First three elements are: [60, 50, 40]\n"
     ]
    },
    {
     "data": {
      "text/plain": [
       "[60, 50, 40, 25, 15, 10]"
      ]
     },
     "execution_count": 19,
     "metadata": {},
     "output_type": "execute_result"
    }
   ],
   "source": [
    "first_three_elements = my_list[:3]\n",
    "print(f\"First three elements are: {first_three_elements}\")\n",
    "my_list"
   ]
  },
  {
   "cell_type": "raw",
   "id": "b67f2823-331a-4cc1-ba1e-2483e48bdea7",
   "metadata": {},
   "source": []
  },
  {
   "cell_type": "markdown",
   "id": "7f7cda5b-2d0b-4921-b138-3756827b1ff8",
   "metadata": {},
   "source": [
    "12) Find the index of the value 40 in my_list."
   ]
  },
  {
   "cell_type": "code",
   "execution_count": 21,
   "id": "47c9f676-3ccb-43c7-afe5-50ab42e59dd9",
   "metadata": {},
   "outputs": [
    {
     "name": "stdout",
     "output_type": "stream",
     "text": [
      "Index of 40: 2\n"
     ]
    },
    {
     "data": {
      "text/plain": [
       "[60, 50, 40, 25, 15, 10]"
      ]
     },
     "execution_count": 21,
     "metadata": {},
     "output_type": "execute_result"
    }
   ],
   "source": [
    "index_40 = my_list.index(40)\n",
    "print(f\"Index of 40: {index_40}\")\n",
    "my_list"
   ]
  },
  {
   "cell_type": "markdown",
   "id": "7e5657fd-f28f-4192-bd7c-f0885de4aeea",
   "metadata": {},
   "source": []
  },
  {
   "cell_type": "markdown",
   "id": "a775b093-835b-46a1-afdb-f416ce8abf36",
   "metadata": {},
   "source": [
    "13. Clear all elements from my_list using the clear() method."
   ]
  },
  {
   "cell_type": "code",
   "execution_count": 22,
   "id": "fa9ea9cd-38cc-4b3f-8b86-dc3330849841",
   "metadata": {},
   "outputs": [
    {
     "name": "stdout",
     "output_type": "stream",
     "text": [
      "[]\n"
     ]
    }
   ],
   "source": [
    "my_list.clear()\n",
    "print(my_list)  # Should print an empty list []"
   ]
  },
  {
   "cell_type": "raw",
   "id": "85919ae3-1d6c-4b6c-9c08-7048a7e65fa7",
   "metadata": {},
   "source": []
  },
  {
   "cell_type": "markdown",
   "id": "ad3babe6-cac8-42d3-9806-8f464ace7001",
   "metadata": {},
   "source": [
    "14) Create a nested list called nested_list with two sublists: [1, 2, 3] and [4, 5, 6]."
   ]
  },
  {
   "cell_type": "code",
   "execution_count": 23,
   "id": "9f5fec72-91c3-4941-a5e6-ab7d9646a18e",
   "metadata": {},
   "outputs": [
    {
     "data": {
      "text/plain": [
       "[[1, 2, 3], [4, 5, 6]]"
      ]
     },
     "execution_count": 23,
     "metadata": {},
     "output_type": "execute_result"
    }
   ],
   "source": [
    "nested_list = [[1, 2, 3], [4, 5, 6]]\n",
    "nested_list"
   ]
  },
  {
   "cell_type": "raw",
   "id": "c81c1007-dc8d-4c42-bc65-eedfa7af06a7",
   "metadata": {},
   "source": []
  },
  {
   "cell_type": "markdown",
   "id": "515dbaec-af05-4501-967a-2481d7030d7a",
   "metadata": {},
   "source": [
    "15. Access the element 5 from nested_list."
   ]
  },
  {
   "cell_type": "code",
   "execution_count": 24,
   "id": "9ac59471-8fda-4a99-8fb6-fce2175662df",
   "metadata": {},
   "outputs": [
    {
     "name": "stdout",
     "output_type": "stream",
     "text": [
      "Element 5: 5\n"
     ]
    }
   ],
   "source": [
    "element_5 = nested_list[1][1]\n",
    "print(f\"Element 5: {element_5}\")"
   ]
  },
  {
   "cell_type": "raw",
   "id": "4115e726-5f3e-42ba-b71b-a103062cffbe",
   "metadata": {},
   "source": []
  }
 ],
 "metadata": {
  "kernelspec": {
   "display_name": "Python 3 (ipykernel)",
   "language": "python",
   "name": "python3"
  },
  "language_info": {
   "codemirror_mode": {
    "name": "ipython",
    "version": 3
   },
   "file_extension": ".py",
   "mimetype": "text/x-python",
   "name": "python",
   "nbconvert_exporter": "python",
   "pygments_lexer": "ipython3",
   "version": "3.11.7"
  }
 },
 "nbformat": 4,
 "nbformat_minor": 5
}
