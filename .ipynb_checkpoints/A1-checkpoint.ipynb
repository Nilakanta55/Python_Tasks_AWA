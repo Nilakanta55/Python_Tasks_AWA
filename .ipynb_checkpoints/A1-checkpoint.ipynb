{
 "cells": [
  {
   "cell_type": "raw",
   "id": "8883320b-55df-4713-a59d-d8d733a2946d",
   "metadata": {},
   "source": [
    "1. Understanding Variables\n",
    "a. Define a variable in Python. Provide an example of how to create a variable that\n",
    "stores your name."
   ]
  },
  {
   "cell_type": "markdown",
   "id": "b5d81b6f-1a23-4a44-b423-b884b125da40",
   "metadata": {},
   "source": [
    "Define a variable in Python\n",
    "\n",
    "A variable in Python is a symbolic name that refers to a location in memory where data is stored. Variables in Python are dynamically typed, which means you don't need to declare their type before assigning a value. Python determines the type of variable based on the assigned value."
   ]
  },
  {
   "cell_type": "code",
   "execution_count": 1,
   "id": "b965d3da-f57b-4882-8a70-aa405fb86e1e",
   "metadata": {},
   "outputs": [
    {
     "name": "stdout",
     "output_type": "stream",
     "text": [
      "Vijay Kumar\n"
     ]
    }
   ],
   "source": [
    "# Variable to store your name\n",
    "my_name = \"Vijay Kumar\"\n",
    "\n",
    "# Print the value stored in the variable\n",
    "print(my_name)"
   ]
  },
  {
   "cell_type": "markdown",
   "id": "e863780b-bb6d-46f9-9eef-19257a48d3a1",
   "metadata": {},
   "source": [
    "In this example, my_name is a variable that stores the string \"Vijay Kumar\". \n",
    "\n",
    "The = operator is used to assign the value on the right-hand side (the string) to the variable on the left-hand side (my_name)."
   ]
  },
  {
   "cell_type": "markdown",
   "id": "08527603-54a7-40b3-837d-0d9efa23ab66",
   "metadata": {},
   "source": [
    "Key Points:\n",
    "\n",
    "* Variable names can contain letters, numbers, and underscores, but they must start with a letter or an underscore.\n",
    "* Python is case-sensitive, so my_name and My_Name are different variables.\n",
    "* Variables in Python are dynamically typed, so you can change the type of data stored in a variable at any time."
   ]
  },
  {
   "cell_type": "markdown",
   "id": "9ed65d42-2296-4e4e-a9d4-d6057f0f0767",
   "metadata": {},
   "source": []
  },
  {
   "cell_type": "markdown",
   "id": "75790e2f-0953-4092-aec3-871c371d9f1c",
   "metadata": {},
   "source": [
    "b. What is the difference between a variable and a constant? Can we have constants in Python?"
   ]
  },
  {
   "cell_type": "markdown",
   "id": "add3816e-35c0-4552-a461-edb99f249533",
   "metadata": {},
   "source": [
    "Difference Between a Variable and a Constant\n",
    "Variable:\n",
    "* A variable is a storage location identified by a name, where data can change during program execution.\n",
    "* Example: If you have a variable x initialized as x = 10, you can later change the value of x to something else like x = 20."
   ]
  },
  {
   "cell_type": "code",
   "execution_count": 6,
   "id": "c60d537f-cbd2-4bf4-a12b-c980af5cb3ad",
   "metadata": {},
   "outputs": [
    {
     "data": {
      "text/plain": [
       "20"
      ]
     },
     "execution_count": 6,
     "metadata": {},
     "output_type": "execute_result"
    }
   ],
   "source": [
    "x = 10   # variable with initial value 10\n",
    "x = 20   # value changed to 20\n",
    "x"
   ]
  },
  {
   "cell_type": "markdown",
   "id": "2ea0b462-2dfa-4315-ac62-488fcf903ab5",
   "metadata": {},
   "source": [
    "Constant:\n",
    "\n",
    "* A constant is a value that cannot be changed once it's assigned. It remains the same throughout the program's execution.\n",
    "* Python does not have built-in support for constants like some other programming languages (e.g., Java, C++), but the convention is to define constants using all uppercase letters. Though Python allows you to change the value of these constants, it is a widely accepted practice to not do so."
   ]
  },
  {
   "cell_type": "code",
   "execution_count": 8,
   "id": "6ccf1712-ccc7-47e4-985b-7864521b42b9",
   "metadata": {},
   "outputs": [
    {
     "data": {
      "text/plain": [
       "3.14159"
      ]
     },
     "execution_count": 8,
     "metadata": {},
     "output_type": "execute_result"
    }
   ],
   "source": [
    "PI = 3.14159\n",
    "GRAVITY = 9.8\n",
    "PI"
   ]
  },
  {
   "cell_type": "code",
   "execution_count": 9,
   "id": "3284314d-3219-41a5-b97b-ee0f88b2f832",
   "metadata": {},
   "outputs": [
    {
     "data": {
      "text/plain": [
       "9.8"
      ]
     },
     "execution_count": 9,
     "metadata": {},
     "output_type": "execute_result"
    }
   ],
   "source": [
    "GRAVITY"
   ]
  },
  {
   "cell_type": "markdown",
   "id": "98f10d29-e96c-4cbb-a8ec-ba80ed5f42c5",
   "metadata": {},
   "source": [
    "In this example, PI and GRAVITY are constants. While Python won't stop you from reassigning them, it's a programming convention to treat such values as immutable."
   ]
  },
  {
   "cell_type": "markdown",
   "id": "ffcf85c5-8836-4646-b0c8-9fb9919ff2ba",
   "metadata": {},
   "source": [
    "Key Differences:\n",
    "\n",
    "* Mutability: Variables can change, constants (by convention) should not.\n",
    "* Syntax: Constants are usually written in uppercase letters to indicate that they should not be modified, though Python does not enforce this rule."
   ]
  },
  {
   "cell_type": "markdown",
   "id": "cc176e55-c697-4f07-99fd-7b0d089d9021",
   "metadata": {},
   "source": [
    "Can we have constants in Python?\n",
    "\n",
    "* Python doesn't enforce constants like some other languages. However, constants can be implemented using third-party libraries like enforce or by using class-level constants. However, the common approach is to rely on naming conventions (uppercase) to signify a constant."
   ]
  },
  {
   "cell_type": "raw",
   "id": "c05f6822-8e05-4c45-b7e4-69d50cd94e3a",
   "metadata": {},
   "source": []
  },
  {
   "cell_type": "raw",
   "id": "7f145c5e-76e2-4d16-908f-0a4c80bed7e3",
   "metadata": {},
   "source": [
    "2. Working with Different Data Types\n",
    "a. Create variables of the following types in Python:\n",
    "1. Integer\n",
    "2. Float\n",
    "3. String\n",
    "4. Boolean"
   ]
  },
  {
   "cell_type": "markdown",
   "id": "eb9a49d6-d199-4cbf-9020-021c325a80ae",
   "metadata": {},
   "source": [
    "In Python, you can easily create variables of various data types. Python handles types dynamically, meaning the data type of a variable is inferred based on the value you assign to it. Here’s a detailed example for each type:\n",
    "\n",
    "a. Creating Variables of Different Types\n",
    "\n",
    "Integer:\n",
    "* An integer is a whole number (positive or negative) without a decimal point.\n",
    "* Example of creating an integer variable:"
   ]
  },
  {
   "cell_type": "code",
   "execution_count": 11,
   "id": "e01c08a5-30d2-47ab-bf25-e1f0519b458a",
   "metadata": {},
   "outputs": [
    {
     "name": "stdout",
     "output_type": "stream",
     "text": [
      "<class 'int'>\n"
     ]
    }
   ],
   "source": [
    "age = 25  # This is an integer variable\n",
    "print(type(age))  # Outputs: <class 'int'>"
   ]
  },
  {
   "cell_type": "markdown",
   "id": "84a1393e-6684-48b4-8c51-d463bc97e5f8",
   "metadata": {},
   "source": [
    "Float:\n",
    "\n",
    "* A float is a number that contains a decimal point or is represented in exponential notation.\n",
    "* Example of creating a float variable:"
   ]
  },
  {
   "cell_type": "code",
   "execution_count": 13,
   "id": "018b297b-72e7-4482-9f31-9ec4cf1bc6b9",
   "metadata": {},
   "outputs": [
    {
     "name": "stdout",
     "output_type": "stream",
     "text": [
      "<class 'float'>\n"
     ]
    }
   ],
   "source": [
    "pi_value = 3.14159  # This is a float variable\n",
    "print(type(pi_value))  # Outputs: <class 'float'>"
   ]
  },
  {
   "cell_type": "markdown",
   "id": "c0dbf2de-7e64-4565-a337-16e249514d6d",
   "metadata": {},
   "source": [
    "String:\n",
    "\n",
    "* A string is a sequence of characters enclosed in single, double, or triple quotes.\n",
    "* Example of creating a string variable:"
   ]
  },
  {
   "cell_type": "code",
   "execution_count": 14,
   "id": "b53c7ef8-2d75-4d33-9d82-37a5e9051257",
   "metadata": {},
   "outputs": [
    {
     "name": "stdout",
     "output_type": "stream",
     "text": [
      "<class 'str'>\n"
     ]
    }
   ],
   "source": [
    "my_name = \"John Doe\"  # This is a string variable\n",
    "print(type(my_name))  # Outputs: <class 'str'>\n"
   ]
  },
  {
   "cell_type": "markdown",
   "id": "eae7f116-797d-442a-8500-e94c871a0b14",
   "metadata": {},
   "source": [
    "Boolean:\n",
    "\n",
    "* A boolean variable can hold one of two values: True or False. It's often used in conditions and comparisons.\n",
    "* Example of creating a boolean variable:"
   ]
  },
  {
   "cell_type": "code",
   "execution_count": 16,
   "id": "c07f87f2-146b-4553-8509-1818ccd7e5be",
   "metadata": {},
   "outputs": [
    {
     "name": "stdout",
     "output_type": "stream",
     "text": [
      "<class 'bool'>\n"
     ]
    }
   ],
   "source": [
    "is_raining = False  # This is a boolean variable\n",
    "print(type(is_raining))  # Outputs: <class 'bool'>"
   ]
  },
  {
   "cell_type": "markdown",
   "id": "7977d348-0fa7-46c0-a14e-699fddc6fd99",
   "metadata": {},
   "source": [
    "Summary of Examples:\n",
    "\n",
    "* age = 25 → Integer (int)\n",
    "* pi_value = 3.14159 → Float (float)\n",
    "* my_name = \"John Doe\" → String (str)\n",
    "* is_raining = False → Boolean (bool)\n",
    "\n",
    "These are the most common data types in Python, and Python automatically recognizes the data type based on the value you assign to a variable."
   ]
  },
  {
   "cell_type": "markdown",
   "id": "68bc8870-e989-4b22-9ed6-0ffe94163b5e",
   "metadata": {},
   "source": []
  },
  {
   "cell_type": "markdown",
   "id": "0d745796-dabb-4b54-b9e6-c71beccc6a99",
   "metadata": {},
   "source": [
    "b. Write a Python script to display the type of each variable you created."
   ]
  },
  {
   "cell_type": "markdown",
   "id": "9695bf9d-551c-4a8e-b0b7-d66fec0964db",
   "metadata": {},
   "source": [
    "Here's a Python script that creates variables of different data types (Integer, Float, String, and Boolean) and displays their types using the type() function."
   ]
  },
  {
   "cell_type": "code",
   "execution_count": 17,
   "id": "dc583ab6-35cd-4174-b66a-5641abd35b97",
   "metadata": {},
   "outputs": [
    {
     "name": "stdout",
     "output_type": "stream",
     "text": [
      "The type of variable 'age' is: <class 'int'>\n",
      "The type of variable 'pi_value' is: <class 'float'>\n",
      "The type of variable 'my_name' is: <class 'str'>\n",
      "The type of variable 'is_raining' is: <class 'bool'>\n"
     ]
    }
   ],
   "source": [
    "# Creating variables of different types\n",
    "\n",
    "# Integer variable\n",
    "age = 25\n",
    "\n",
    "# Float variable\n",
    "pi_value = 3.14159\n",
    "\n",
    "# String variable\n",
    "my_name = \"John Doe\"\n",
    "\n",
    "# Boolean variable\n",
    "is_raining = False\n",
    "\n",
    "# Display the types of each variable\n",
    "print(f\"The type of variable 'age' is: {type(age)}\")          # Output: <class 'int'>\n",
    "print(f\"The type of variable 'pi_value' is: {type(pi_value)}\")  # Output: <class 'float'>\n",
    "print(f\"The type of variable 'my_name' is: {type(my_name)}\")    # Output: <class 'str'>\n",
    "print(f\"The type of variable 'is_raining' is: {type(is_raining)}\")  # Output: <class 'bool'>\n"
   ]
  },
  {
   "cell_type": "raw",
   "id": "d7d69605-5c99-482c-9b28-10296e760f0a",
   "metadata": {},
   "source": []
  },
  {
   "cell_type": "markdown",
   "id": "5bb5e4c3-0db5-4b7e-86e6-6db9efa6769b",
   "metadata": {},
   "source": [
    "3. Arithmetic Operators\n",
    "\n",
    "a. Explain the following arithmetic operators with examples:\n",
    "\n",
    "1. Addition (`+`)\n",
    "2. Subtraction (`-`)\n",
    "3. Multiplication (``)\n",
    "4. Division (`/`)\n",
    "5. Floor Division (`//`)\n",
    "6. Modulus (`%`)\n",
    "7. Exponentiation (``)\n"
   ]
  },
  {
   "cell_type": "markdown",
   "id": "53aaa029-04ed-45a0-8d30-fbeea5613607",
   "metadata": {},
   "source": [
    "Arithmetic Operators in Python\n",
    "\n",
    "Arithmetic operators are used to perform mathematical operations between variables or values. Let's go through each of them in detail with examples:"
   ]
  },
  {
   "cell_type": "markdown",
   "id": "361624aa-a963-4a53-837b-ead81dba18f4",
   "metadata": {},
   "source": [
    "1. Addition (+)\n",
    "\n",
    "Functionality: Adds two numbers together.\n",
    "\n",
    "Syntax: a + b"
   ]
  },
  {
   "cell_type": "code",
   "execution_count": 18,
   "id": "05605945-8296-429b-aed2-cf46be99a99e",
   "metadata": {},
   "outputs": [
    {
     "name": "stdout",
     "output_type": "stream",
     "text": [
      "15\n"
     ]
    }
   ],
   "source": [
    "a = 10\n",
    "b = 5\n",
    "result = a + b\n",
    "print(result)  # Output: 15"
   ]
  },
  {
   "cell_type": "markdown",
   "id": "6110a2eb-d659-4729-916e-0a0a37ee4380",
   "metadata": {},
   "source": [
    "* In this example, a and b are added, resulting in 15."
   ]
  },
  {
   "cell_type": "markdown",
   "id": "d86e8dc2-e6aa-45f7-bad1-29f9f1bba4f1",
   "metadata": {},
   "source": [
    "2. Subtraction (-)\n",
    "\n",
    "Functionality: Subtracts the right operand from the left operand.\n",
    "\n",
    "Syntax: a - b"
   ]
  },
  {
   "cell_type": "code",
   "execution_count": 19,
   "id": "d02abffd-50e9-4b29-8784-67e6afa3511f",
   "metadata": {},
   "outputs": [
    {
     "name": "stdout",
     "output_type": "stream",
     "text": [
      "5\n"
     ]
    }
   ],
   "source": [
    "a = 10\n",
    "b = 5\n",
    "result = a - b\n",
    "print(result)  # Output: 5"
   ]
  },
  {
   "cell_type": "markdown",
   "id": "4e97d0b2-b048-4378-abfd-953cbada6957",
   "metadata": {},
   "source": [
    "* Here, 5 is subtracted from 10, resulting in 5."
   ]
  },
  {
   "cell_type": "markdown",
   "id": "eff6728c-b186-4478-a8b1-7e23c038e7b2",
   "metadata": {},
   "source": [
    "3. Multiplication (*)\n",
    "\n",
    "Functionality: Multiplies two numbers.\n",
    "\n",
    "     Syntax: a * b\n"
   ]
  },
  {
   "cell_type": "code",
   "execution_count": 21,
   "id": "2481a452-4d11-417c-95fc-4a978fe1a00d",
   "metadata": {},
   "outputs": [
    {
     "name": "stdout",
     "output_type": "stream",
     "text": [
      "50\n"
     ]
    }
   ],
   "source": [
    "a = 10\n",
    "b = 5\n",
    "result = a * b\n",
    "print(result)  # Output: 50"
   ]
  },
  {
   "cell_type": "markdown",
   "id": "417e7864-21e5-4c94-ac7b-90f818e5595f",
   "metadata": {},
   "source": [
    "* 10 is multiplied by 5, giving the result 50."
   ]
  },
  {
   "cell_type": "markdown",
   "id": "0beeb8e2-54a3-4047-b046-bfed70fbf3ea",
   "metadata": {},
   "source": [
    "4. Division (/)\n",
    "\n",
    "Functionality: Divides the left operand by the right operand and returns a floating-point result.\n",
    "\n",
    "Syntax: a / b"
   ]
  },
  {
   "cell_type": "code",
   "execution_count": 22,
   "id": "d4c924b7-b93c-4b1b-9695-f8e33bab0c13",
   "metadata": {},
   "outputs": [
    {
     "name": "stdout",
     "output_type": "stream",
     "text": [
      "2.0\n"
     ]
    }
   ],
   "source": [
    "a = 10\n",
    "b = 5\n",
    "result = a / b\n",
    "print(result)  # Output: 2.0"
   ]
  },
  {
   "cell_type": "markdown",
   "id": "dd07f3b8-74da-4ee4-9758-8c1e6fb628b6",
   "metadata": {},
   "source": [
    "* 10 divided by 5 gives 2.0 (floating-point result).10 divided by 5 gives 2.0 (floating-point result)."
   ]
  },
  {
   "cell_type": "markdown",
   "id": "dcad9522-19dc-43c4-a8b9-b5546cd66fef",
   "metadata": {},
   "source": [
    "5. Floor Division (//)\n",
    "\n",
    "Functionality: Divides the left operand by the right operand and returns the largest integer less than or equal to the result.\n",
    "\n",
    "    Syntax: a // b"
   ]
  },
  {
   "cell_type": "code",
   "execution_count": 23,
   "id": "6b92c434-6dfb-477c-8476-cada38e76749",
   "metadata": {},
   "outputs": [
    {
     "name": "stdout",
     "output_type": "stream",
     "text": [
      "3\n"
     ]
    }
   ],
   "source": [
    "a = 10\n",
    "b = 3\n",
    "result = a // b\n",
    "print(result)  # Output: 3"
   ]
  },
  {
   "cell_type": "markdown",
   "id": "df9fa832-f633-4602-a297-b27b16884510",
   "metadata": {},
   "source": [
    "* 10 divided by 3 is 3.33, but // returns the integer part, which is 3."
   ]
  },
  {
   "cell_type": "markdown",
   "id": "10d2d148-9dea-4883-9c71-8b4e9fff5a12",
   "metadata": {},
   "source": [
    "6. Modulus (%)\n",
    "\n",
    "Functionality: Returns the remainder of the division between two numbers.\n",
    "\n",
    "    Syntax: a % b"
   ]
  },
  {
   "cell_type": "code",
   "execution_count": 24,
   "id": "073c4c11-7296-4b99-b4e5-1042af1d8652",
   "metadata": {},
   "outputs": [
    {
     "name": "stdout",
     "output_type": "stream",
     "text": [
      "1\n"
     ]
    }
   ],
   "source": [
    "a = 10\n",
    "b = 3\n",
    "result = a % b\n",
    "print(result)  # Output: 1"
   ]
  },
  {
   "cell_type": "markdown",
   "id": "f8a35ee5-e042-4f63-aa3b-94b2318f4f26",
   "metadata": {},
   "source": [
    "10 divided by 3 gives a remainder of 1."
   ]
  },
  {
   "cell_type": "markdown",
   "id": "439f5a85-add3-4090-83a5-ca342f4a9386",
   "metadata": {},
   "source": [
    "7. Exponentiation ()**\n",
    "\n",
    "Functionality: Raises the left operand to the power of the right operand.\n",
    "\n",
    "    Syntax: a ** b"
   ]
  },
  {
   "cell_type": "code",
   "execution_count": 25,
   "id": "3b8887f5-ac34-4539-a16f-9b5c0d2b7f62",
   "metadata": {},
   "outputs": [
    {
     "name": "stdout",
     "output_type": "stream",
     "text": [
      "8\n"
     ]
    }
   ],
   "source": [
    "a = 2\n",
    "b = 3\n",
    "result = a ** b\n",
    "print(result)  # Output: 8"
   ]
  },
  {
   "cell_type": "markdown",
   "id": "1c8f9048-7a85-4ce4-8052-d036b3121354",
   "metadata": {},
   "source": [
    "2 raised to the power of 3 results in 8 (2 * 2 * 2 = 8)."
   ]
  },
  {
   "cell_type": "markdown",
   "id": "c069e2d1-dd92-4a9e-a7d5-4f630426071e",
   "metadata": {},
   "source": [
    "Summary of Operators and Their Functions:\n",
    "\n",
    "Operator\tFunctionality\tExample\tResult\n",
    "\n",
    "+\tAddition\t10 + 5\t15\n",
    "-\tSubtraction\t10 - 5\t5\n",
    "*\tMultiplication\t10 * 5\t50\n",
    "* /\tDivision (float)\t10 / 5\t2.0\n",
    "* //\tFloor Division (integer)\t10 // 3\t3\n",
    "* %\tModulus (remainder)\t10 % 3\t1\n",
    "**\tExponentiation (power)\t2 ** 3\t8\n",
    " \t\n",
    "These are some of the basic arithmetic operators in Python used for mathematical operations. Each one performs a different operation and returns a corresponding result based on the values of the operands."
   ]
  },
  {
   "cell_type": "raw",
   "id": "70a16c33-6dd5-4d3e-9a3d-625f8a5354e1",
   "metadata": {},
   "source": []
  },
  {
   "cell_type": "raw",
   "id": "6e08c915-a7f7-4f99-a7ae-7b5311e35382",
   "metadata": {},
   "source": [
    "b. Write a Python script to calculate the area of a rectangle using variables `length`\n",
    "and `width` with values 5 and 10, respectively. Use the multiplication operator."
   ]
  },
  {
   "cell_type": "markdown",
   "id": "82944f06-3926-4cb4-93e7-16bf58bcf482",
   "metadata": {},
   "source": [
    "Here’s a simple Python script to calculate the area of a rectangle using the given values for length and width:"
   ]
  },
  {
   "cell_type": "code",
   "execution_count": 1,
   "id": "21bf6070-e0f5-4254-89f4-823265cb8a73",
   "metadata": {},
   "outputs": [
    {
     "name": "stdout",
     "output_type": "stream",
     "text": [
      "The area of the rectangle with length 5 and width 10 is 50.\n"
     ]
    }
   ],
   "source": [
    "# Define the variables for length and width\n",
    "length = 5\n",
    "width = 10\n",
    "\n",
    "# Calculate the area using the multiplication operator\n",
    "area = length * width\n",
    "\n",
    "# Print the result\n",
    "print(f\"The area of the rectangle with length {length} and width {width} is {area}.\")"
   ]
  },
  {
   "cell_type": "markdown",
   "id": "fae8285e-0e27-4a68-8fe8-b134fef48f51",
   "metadata": {},
   "source": []
  },
  {
   "cell_type": "raw",
   "id": "16f9f72e-e985-43da-999d-46f3f57ac399",
   "metadata": {},
   "source": [
    "Comparison and Logical Operators\n",
    "\n",
    "a. Explain the following comparison operators with examples:\n",
    "1. Equal to (`==`)\n",
    "2. Not equal to (`!=`)\n",
    "3. Greater than (`>`)\n",
    "4. Less than (`<`)\n",
    "5. Greater than or equal to (`>=`)\n",
    "6. Less than or equal to (`<=`)\n"
   ]
  },
  {
   "cell_type": "markdown",
   "id": "b4890ae5-fc54-4b57-8c22-e6cd7e627293",
   "metadata": {},
   "source": [
    "Equal to (==):\n",
    "\n",
    "This operator checks if two values are equal.\n",
    "Example:"
   ]
  },
  {
   "cell_type": "code",
   "execution_count": 2,
   "id": "a80cde23-2016-4903-b1b2-1a84cb0f57f5",
   "metadata": {},
   "outputs": [
    {
     "name": "stdout",
     "output_type": "stream",
     "text": [
      "True\n"
     ]
    }
   ],
   "source": [
    "a = 5\n",
    "b = 5\n",
    "print(a == b)  # Output: True"
   ]
  },
  {
   "cell_type": "raw",
   "id": "598450a6-51f7-476d-854c-e247a5ce19d9",
   "metadata": {},
   "source": []
  },
  {
   "cell_type": "markdown",
   "id": "a98056e0-75fd-4dd2-b673-54eed7eaf6bc",
   "metadata": {},
   "source": [
    "Not equal to (!=):\n",
    "\n",
    "This operator checks if two values are not equal."
   ]
  },
  {
   "cell_type": "code",
   "execution_count": 3,
   "id": "81254007-52d1-4ad2-9cd9-ac01cdb47244",
   "metadata": {},
   "outputs": [
    {
     "name": "stdout",
     "output_type": "stream",
     "text": [
      "True\n"
     ]
    }
   ],
   "source": [
    "a = 5\n",
    "b = 10\n",
    "print(a != b)  # Output: True"
   ]
  },
  {
   "cell_type": "raw",
   "id": "376a6cf8-0966-460a-a92e-600c0ccdf8fd",
   "metadata": {},
   "source": []
  },
  {
   "cell_type": "markdown",
   "id": "2339d23d-deb5-4770-ad49-2172d1de4330",
   "metadata": {},
   "source": [
    "Greater than (>):\n",
    "\n",
    "This operator checks if the value on the left is greater than the value on the right."
   ]
  },
  {
   "cell_type": "code",
   "execution_count": 4,
   "id": "3918a7d5-e4c9-4750-9c38-e849e3c1f1af",
   "metadata": {},
   "outputs": [
    {
     "name": "stdout",
     "output_type": "stream",
     "text": [
      "True\n"
     ]
    }
   ],
   "source": [
    "a = 10\n",
    "b = 5\n",
    "print(a > b)  # Output: True"
   ]
  },
  {
   "cell_type": "raw",
   "id": "cf469a23-0a18-45eb-ab52-a02dacd4f8e8",
   "metadata": {},
   "source": []
  },
  {
   "cell_type": "markdown",
   "id": "462e6b7c-4565-40a7-a941-2ce922d6f01a",
   "metadata": {},
   "source": [
    "Less than (<):\n",
    "\n",
    "This operator checks if the value on the left is less than the value on the right."
   ]
  },
  {
   "cell_type": "code",
   "execution_count": 5,
   "id": "5deb4407-8972-440f-a6a8-017f14b661a7",
   "metadata": {},
   "outputs": [
    {
     "name": "stdout",
     "output_type": "stream",
     "text": [
      "True\n"
     ]
    }
   ],
   "source": [
    "a = 5\n",
    "b = 10\n",
    "print(a < b)  # Output: True"
   ]
  },
  {
   "cell_type": "raw",
   "id": "385fc079-7db0-4160-bf63-a4a0e8240d4c",
   "metadata": {},
   "source": []
  },
  {
   "cell_type": "markdown",
   "id": "87909c68-d583-44cd-9e38-9a4e15ef551d",
   "metadata": {},
   "source": [
    "Greater than or equal to (>=):\n",
    "\n",
    "This operator checks if the value on the left is greater than or equal to the value on the right."
   ]
  },
  {
   "cell_type": "code",
   "execution_count": 7,
   "id": "b43a175a-8b13-4ef7-833c-04e8b37ad5c5",
   "metadata": {},
   "outputs": [
    {
     "name": "stdout",
     "output_type": "stream",
     "text": [
      "True\n"
     ]
    }
   ],
   "source": [
    "a = 10\n",
    "b = 10\n",
    "print(a >= b)  # Output: True"
   ]
  },
  {
   "cell_type": "raw",
   "id": "672d42dc-4a5d-450c-9c4d-c87dc1355996",
   "metadata": {},
   "source": []
  },
  {
   "cell_type": "markdown",
   "id": "4fcbe71c-934b-4573-bc3a-ffa6c3299a29",
   "metadata": {},
   "source": [
    "Less than or equal to (<=):\n",
    "\n",
    "This operator checks if the value on the left is less than or equal to the value on the right."
   ]
  },
  {
   "cell_type": "code",
   "execution_count": 8,
   "id": "90fb808a-2672-4185-ac11-100f6439f83a",
   "metadata": {},
   "outputs": [
    {
     "name": "stdout",
     "output_type": "stream",
     "text": [
      "True\n"
     ]
    }
   ],
   "source": [
    "a = 5\n",
    "b = 10\n",
    "print(a <= b)  # Output: True"
   ]
  },
  {
   "cell_type": "markdown",
   "id": "af67be21-15f5-46bb-9369-db9be4d9688f",
   "metadata": {},
   "source": [
    "These operators are fundamental in programming for making decisions and controlling the flow of the program."
   ]
  },
  {
   "cell_type": "raw",
   "id": "8a28efec-568d-4b00-8617-d556df36c814",
   "metadata": {},
   "source": []
  },
  {
   "cell_type": "markdown",
   "id": "6147c1f4-ec65-4db8-8470-8c365d312b93",
   "metadata": {},
   "source": [
    "b. Using logical operators (`and`, `or`, `not`), write a Python script that checks if a\n",
    "number is positive and even."
   ]
  },
  {
   "cell_type": "code",
   "execution_count": 13,
   "id": "7639965e-1f29-410f-986b-a3a0bf8c9362",
   "metadata": {},
   "outputs": [
    {
     "name": "stdin",
     "output_type": "stream",
     "text": [
      "Please enter a number: 4\n"
     ]
    },
    {
     "name": "stdout",
     "output_type": "stream",
     "text": [
      "The number 4 is positive and even: True\n"
     ]
    }
   ],
   "source": [
    "# Define a function to check if a number is positive and even\n",
    "def is_positive_and_even(number):\n",
    "    return number > 0 and number % 2 == 0\n",
    "\n",
    "# Test the function with an example number\n",
    "number = int(input(\"Please enter a number:\" ))\n",
    "result = is_positive_and_even(number)\n",
    "\n",
    "# Print the result\n",
    "print(f\"The number {number} is positive and even: {result}\")"
   ]
  },
  {
   "cell_type": "raw",
   "id": "28f343b7-b752-4d94-ba4b-a5425ff14c71",
   "metadata": {},
   "source": []
  },
  {
   "cell_type": "raw",
   "id": "fe40893b-6e42-40e3-8256-d386a96cf62a",
   "metadata": {},
   "source": [
    "5. Type Casting in Python\n",
    "a. What is type casting? Explain the difference between implicit and explicit type\n",
    "casting with examples."
   ]
  },
  {
   "cell_type": "markdown",
   "id": "c87a9091-77b1-41e5-a938-72f00b1d5ab8",
   "metadata": {},
   "source": [
    "Type casting in Python refers to converting one data type into another. This can be done either implicitly by Python or explicitly by the programmer.\n",
    "\n",
    "Implicit Type Casting\n",
    "\r\n",
    "Implicit type casting, also known as coercion, is automatically performed by Python when it encounters mixed data types in an expression. Python converts the data type to a higher-order type to avoid data loss.\r\n",
    "\r\n",
    "Example:"
   ]
  },
  {
   "cell_type": "code",
   "execution_count": 14,
   "id": "ca041045-56cc-4f52-b8b4-63c22c27d39e",
   "metadata": {},
   "outputs": [
    {
     "name": "stdout",
     "output_type": "stream",
     "text": [
      "13.14\n",
      "<class 'float'>\n"
     ]
    }
   ],
   "source": [
    "# Implicit type casting\n",
    "num_int = 10\n",
    "num_float = 3.14\n",
    "\n",
    "# Adding integer and float\n",
    "result = num_int + num_float\n",
    "\n",
    "print(result)  # Output: 13.14\n",
    "print(type(result))  # Output: <class 'float'>"
   ]
  },
  {
   "cell_type": "markdown",
   "id": "7b6235c1-e25f-451c-95a1-6e49b63298b9",
   "metadata": {},
   "source": [
    "In this example, num_int (an integer) is implicitly converted to a float when added to num_float (a float), resulting in a float."
   ]
  },
  {
   "cell_type": "raw",
   "id": "90bf4b4d-0645-4fb7-be64-9680be47c20c",
   "metadata": {},
   "source": []
  },
  {
   "cell_type": "markdown",
   "id": "81ace303-a069-48c5-8b85-120ca8835a2c",
   "metadata": {},
   "source": [
    "Explicit Type Casting\n",
    "\n",
    "Explicit type casting, also known as type conversion, is performed by the programmer using built-in functions to convert data types.\n",
    "\n",
    "Example:"
   ]
  },
  {
   "cell_type": "code",
   "execution_count": 15,
   "id": "5dc5a771-69c7-4828-842c-1c78ae7c3c6d",
   "metadata": {},
   "outputs": [
    {
     "name": "stdout",
     "output_type": "stream",
     "text": [
      "123\n",
      "<class 'int'>\n"
     ]
    }
   ],
   "source": [
    "# Explicit type casting\n",
    "num_str = \"123\"\n",
    "num_int = int(num_str)  # Convert string to integer\n",
    "\n",
    "print(num_int)  # Output: 123\n",
    "print(type(num_int))  # Output: <class 'int'>"
   ]
  },
  {
   "cell_type": "markdown",
   "id": "7d418f14-0a5f-4d44-87c1-e3dce93a5a08",
   "metadata": {},
   "source": [
    "In this example, the string num_str is explicitly converted to an integer using the int() function."
   ]
  },
  {
   "cell_type": "markdown",
   "id": "974f0148-a8e4-4421-899d-518f040392dd",
   "metadata": {},
   "source": [
    "Key Differences\n",
    "\n",
    "    Implicit Type Casting:\n",
    "* Performed automatically by Python.\n",
    "* Converts data types to avoid data loss.\n",
    "* Example: Adding an integer to a float results in a float.\n",
    "\n",
    "    Explicit Type Casting:\n",
    "* Performed manually by the programmer.\n",
    "* Uses built-in functions like int(), float(), str(), etc.\n",
    "* Example: Converting a string to an integer using int()."
   ]
  },
  {
   "cell_type": "raw",
   "id": "af0fe35e-e60b-4c0f-a31f-e0a2be761d1c",
   "metadata": {},
   "source": []
  },
  {
   "cell_type": "markdown",
   "id": "1d64cd4e-8e75-48e5-b373-ebd8ce91a4ef",
   "metadata": {},
   "source": [
    "b. Write a Python script that:\n",
    "\n",
    "1. Converts a float to an integer.\n",
    "2. Converts an integer to a string.\n",
    "3. Converts a string to a float."
   ]
  },
  {
   "cell_type": "code",
   "execution_count": 17,
   "id": "e881bd0e-e76a-49be-8353-0973209d709f",
   "metadata": {},
   "outputs": [
    {
     "name": "stdout",
     "output_type": "stream",
     "text": [
      "Float 3.14 converted to integer: 3\n",
      "Integer 42 converted to string: '42'\n",
      "String '123.45' converted to float: 123.45\n"
     ]
    }
   ],
   "source": [
    "# 1. Convert a float to an integer\n",
    "float_num = 3.14\n",
    "int_num = int(float_num)\n",
    "print(f\"Float {float_num} converted to integer: {int_num}\")\n",
    "\n",
    "# 2. Convert an integer to a string\n",
    "int_num = 42\n",
    "str_num = str(int_num)\n",
    "print(f\"Integer {int_num} converted to string: '{str_num}'\")\n",
    "\n",
    "# 3. Convert a string to a float\n",
    "str_num = \"123.45\"\n",
    "float_num = float(str_num)\n",
    "print(f\"String '{str_num}' converted to float: {float_num}\")\n"
   ]
  },
  {
   "cell_type": "raw",
   "id": "3db5005a-875e-4d4b-a61c-55418cd6e1e1",
   "metadata": {},
   "source": []
  },
  {
   "cell_type": "markdown",
   "id": "9ed9bdfc-cc6a-41f6-abb5-75b0582bf670",
   "metadata": {},
   "source": [
    " Practical Exercise: Mini Calculator\n",
    " \n",
    "Write a Python script that asks the user to input two numbers and then:\n",
    "\n",
    "1. Adds the two numbers and prints the result.\n",
    "2. Subtracts the second number from the first and prints the result.\n",
    "3. Multiplies the two numbers and prints the result.\n",
    "4. Divides the first number by the second and prints the result (handle division by zero).\n",
    "5. Converts the sum of the numbers to a string and prints the type of the result."
   ]
  },
  {
   "cell_type": "code",
   "execution_count": 18,
   "id": "4d8cc9f2-6f73-4102-ae39-5328f48346b3",
   "metadata": {},
   "outputs": [
    {
     "name": "stdin",
     "output_type": "stream",
     "text": [
      "Please enter the first number:  34\n",
      "Please enter the second number:  43\n"
     ]
    },
    {
     "name": "stdout",
     "output_type": "stream",
     "text": [
      "The sum of 34.0 and 43.0 is: 77.0\n",
      "The result of subtracting 43.0 from 34.0 is: -9.0\n",
      "The product of 34.0 and 43.0 is: 1462.0\n",
      "The result of dividing 34.0 by 43.0 is: 0.7906976744186046\n",
      "The sum as a string is: '77.0'\n",
      "The type of the sum as a string is: <class 'str'>\n"
     ]
    }
   ],
   "source": [
    "# Mini Calculator Script\n",
    "\n",
    "# Ask the user to input two numbers\n",
    "num1 = float(input(\"Please enter the first number: \"))\n",
    "num2 = float(input(\"Please enter the second number: \"))\n",
    "\n",
    "# 1. Add the two numbers and print the result\n",
    "sum_result = num1 + num2\n",
    "print(f\"The sum of {num1} and {num2} is: {sum_result}\")\n",
    "\n",
    "# 2. Subtract the second number from the first and print the result\n",
    "subtraction_result = num1 - num2\n",
    "print(f\"The result of subtracting {num2} from {num1} is: {subtraction_result}\")\n",
    "\n",
    "# 3. Multiply the two numbers and print the result\n",
    "multiplication_result = num1 * num2\n",
    "print(f\"The product of {num1} and {num2} is: {multiplication_result}\")\n",
    "\n",
    "# 4. Divide the first number by the second and print the result (handle division by zero)\n",
    "if num2 != 0:\n",
    "    division_result = num1 / num2\n",
    "    print(f\"The result of dividing {num1} by {num2} is: {division_result}\")\n",
    "else:\n",
    "    print(\"Division by zero is not allowed.\")\n",
    "\n",
    "# 5. Convert the sum of the numbers to a string and print the type of the result\n",
    "sum_str = str(sum_result)\n",
    "print(f\"The sum as a string is: '{sum_str}'\")\n",
    "print(f\"The type of the sum as a string is: {type(sum_str)}\")"
   ]
  },
  {
   "cell_type": "raw",
   "id": "211461b9-1a26-4b26-8e14-2321dc73645b",
   "metadata": {},
   "source": []
  }
 ],
 "metadata": {
  "kernelspec": {
   "display_name": "Python 3 (ipykernel)",
   "language": "python",
   "name": "python3"
  },
  "language_info": {
   "codemirror_mode": {
    "name": "ipython",
    "version": 3
   },
   "file_extension": ".py",
   "mimetype": "text/x-python",
   "name": "python",
   "nbconvert_exporter": "python",
   "pygments_lexer": "ipython3",
   "version": "3.11.7"
  }
 },
 "nbformat": 4,
 "nbformat_minor": 5
}
